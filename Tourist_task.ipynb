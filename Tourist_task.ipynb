{
 "cells": [
  {
   "cell_type": "code",
   "execution_count": 135,
   "id": "fe7a4920-951c-4a17-a03d-81de49e7f87e",
   "metadata": {},
   "outputs": [],
   "source": [
    "import pandas as pd\n",
    "import numpy as np\n",
    "import warnings\n",
    "warnings.filterwarnings('ignore')\n",
    "from sklearn.model_selection import train_test_split\n",
    "from sklearn.linear_model import LinearRegression,Lasso,Ridge\n",
    "from sklearn.tree import DecisionTreeRegressor"
   ]
  },
  {
   "cell_type": "code",
   "execution_count": 136,
   "id": "6b0d37f3-ae1c-469e-90cb-100348175037",
   "metadata": {},
   "outputs": [],
   "source": [
    "df = pd.read_csv(\"Top.csv\")"
   ]
  },
  {
   "cell_type": "code",
   "execution_count": 137,
   "id": "71afc36a-f2ca-4e9b-9ceb-a52d859a04a5",
   "metadata": {},
   "outputs": [
    {
     "data": {
      "text/html": [
       "<div>\n",
       "<style scoped>\n",
       "    .dataframe tbody tr th:only-of-type {\n",
       "        vertical-align: middle;\n",
       "    }\n",
       "\n",
       "    .dataframe tbody tr th {\n",
       "        vertical-align: top;\n",
       "    }\n",
       "\n",
       "    .dataframe thead th {\n",
       "        text-align: right;\n",
       "    }\n",
       "</style>\n",
       "<table border=\"1\" class=\"dataframe\">\n",
       "  <thead>\n",
       "    <tr style=\"text-align: right;\">\n",
       "      <th></th>\n",
       "      <th>Unnamed: 0</th>\n",
       "      <th>Zone</th>\n",
       "      <th>State</th>\n",
       "      <th>City</th>\n",
       "      <th>Name</th>\n",
       "      <th>Type</th>\n",
       "      <th>Establishment Year</th>\n",
       "      <th>time needed to visit in hrs</th>\n",
       "      <th>Google review rating</th>\n",
       "      <th>Entrance Fee in INR</th>\n",
       "      <th>Airport with 50km Radius</th>\n",
       "      <th>Weekly Off</th>\n",
       "      <th>Significance</th>\n",
       "      <th>DSLR Allowed</th>\n",
       "      <th>Number of google review in lakhs</th>\n",
       "      <th>Best Time to visit</th>\n",
       "    </tr>\n",
       "  </thead>\n",
       "  <tbody>\n",
       "    <tr>\n",
       "      <th>0</th>\n",
       "      <td>0</td>\n",
       "      <td>Northern</td>\n",
       "      <td>Delhi</td>\n",
       "      <td>Delhi</td>\n",
       "      <td>India Gate</td>\n",
       "      <td>War Memorial</td>\n",
       "      <td>1921</td>\n",
       "      <td>0.5</td>\n",
       "      <td>4.6</td>\n",
       "      <td>0</td>\n",
       "      <td>Yes</td>\n",
       "      <td>None</td>\n",
       "      <td>Historical</td>\n",
       "      <td>Yes</td>\n",
       "      <td>2.60</td>\n",
       "      <td>Evening</td>\n",
       "    </tr>\n",
       "    <tr>\n",
       "      <th>1</th>\n",
       "      <td>1</td>\n",
       "      <td>Northern</td>\n",
       "      <td>Delhi</td>\n",
       "      <td>Delhi</td>\n",
       "      <td>Humayun's Tomb</td>\n",
       "      <td>Tomb</td>\n",
       "      <td>1572</td>\n",
       "      <td>2.0</td>\n",
       "      <td>4.5</td>\n",
       "      <td>30</td>\n",
       "      <td>Yes</td>\n",
       "      <td>None</td>\n",
       "      <td>Historical</td>\n",
       "      <td>Yes</td>\n",
       "      <td>0.40</td>\n",
       "      <td>Afternoon</td>\n",
       "    </tr>\n",
       "    <tr>\n",
       "      <th>2</th>\n",
       "      <td>2</td>\n",
       "      <td>Northern</td>\n",
       "      <td>Delhi</td>\n",
       "      <td>Delhi</td>\n",
       "      <td>Akshardham Temple</td>\n",
       "      <td>Temple</td>\n",
       "      <td>2005</td>\n",
       "      <td>5.0</td>\n",
       "      <td>4.6</td>\n",
       "      <td>60</td>\n",
       "      <td>Yes</td>\n",
       "      <td>None</td>\n",
       "      <td>Religious</td>\n",
       "      <td>No</td>\n",
       "      <td>0.40</td>\n",
       "      <td>Afternoon</td>\n",
       "    </tr>\n",
       "    <tr>\n",
       "      <th>3</th>\n",
       "      <td>3</td>\n",
       "      <td>Northern</td>\n",
       "      <td>Delhi</td>\n",
       "      <td>Delhi</td>\n",
       "      <td>Waste to Wonder Park</td>\n",
       "      <td>Theme Park</td>\n",
       "      <td>2019</td>\n",
       "      <td>2.0</td>\n",
       "      <td>4.1</td>\n",
       "      <td>50</td>\n",
       "      <td>Yes</td>\n",
       "      <td>Monday</td>\n",
       "      <td>Environmental</td>\n",
       "      <td>Yes</td>\n",
       "      <td>0.27</td>\n",
       "      <td>Evening</td>\n",
       "    </tr>\n",
       "    <tr>\n",
       "      <th>4</th>\n",
       "      <td>4</td>\n",
       "      <td>Northern</td>\n",
       "      <td>Delhi</td>\n",
       "      <td>Delhi</td>\n",
       "      <td>Jantar Mantar</td>\n",
       "      <td>Observatory</td>\n",
       "      <td>1724</td>\n",
       "      <td>2.0</td>\n",
       "      <td>4.2</td>\n",
       "      <td>15</td>\n",
       "      <td>Yes</td>\n",
       "      <td>None</td>\n",
       "      <td>Scientific</td>\n",
       "      <td>Yes</td>\n",
       "      <td>0.31</td>\n",
       "      <td>Morning</td>\n",
       "    </tr>\n",
       "    <tr>\n",
       "      <th>...</th>\n",
       "      <td>...</td>\n",
       "      <td>...</td>\n",
       "      <td>...</td>\n",
       "      <td>...</td>\n",
       "      <td>...</td>\n",
       "      <td>...</td>\n",
       "      <td>...</td>\n",
       "      <td>...</td>\n",
       "      <td>...</td>\n",
       "      <td>...</td>\n",
       "      <td>...</td>\n",
       "      <td>...</td>\n",
       "      <td>...</td>\n",
       "      <td>...</td>\n",
       "      <td>...</td>\n",
       "      <td>...</td>\n",
       "    </tr>\n",
       "    <tr>\n",
       "      <th>320</th>\n",
       "      <td>320</td>\n",
       "      <td>Western</td>\n",
       "      <td>Gujarat</td>\n",
       "      <td>Gandhinagar</td>\n",
       "      <td>Akshardham</td>\n",
       "      <td>Temple</td>\n",
       "      <td>1992</td>\n",
       "      <td>3.0</td>\n",
       "      <td>4.6</td>\n",
       "      <td>0</td>\n",
       "      <td>Yes</td>\n",
       "      <td>Monday</td>\n",
       "      <td>Religious</td>\n",
       "      <td>No</td>\n",
       "      <td>0.18</td>\n",
       "      <td>All</td>\n",
       "    </tr>\n",
       "    <tr>\n",
       "      <th>321</th>\n",
       "      <td>321</td>\n",
       "      <td>Central</td>\n",
       "      <td>Uttar Pradesh</td>\n",
       "      <td>Agra</td>\n",
       "      <td>Agra Fort</td>\n",
       "      <td>Fort</td>\n",
       "      <td>1565</td>\n",
       "      <td>2.0</td>\n",
       "      <td>4.5</td>\n",
       "      <td>40</td>\n",
       "      <td>Yes</td>\n",
       "      <td>None</td>\n",
       "      <td>Historical</td>\n",
       "      <td>Yes</td>\n",
       "      <td>1.30</td>\n",
       "      <td>Afternoon</td>\n",
       "    </tr>\n",
       "    <tr>\n",
       "      <th>322</th>\n",
       "      <td>322</td>\n",
       "      <td>Central</td>\n",
       "      <td>Madhya Pradesh</td>\n",
       "      <td>Bhopal</td>\n",
       "      <td>Madhya Pradesh Tribal Museum</td>\n",
       "      <td>Museum</td>\n",
       "      <td>2013</td>\n",
       "      <td>2.0</td>\n",
       "      <td>4.7</td>\n",
       "      <td>10</td>\n",
       "      <td>Yes</td>\n",
       "      <td>Monday</td>\n",
       "      <td>Cultural</td>\n",
       "      <td>Yes</td>\n",
       "      <td>0.15</td>\n",
       "      <td>All</td>\n",
       "    </tr>\n",
       "    <tr>\n",
       "      <th>323</th>\n",
       "      <td>323</td>\n",
       "      <td>Northern</td>\n",
       "      <td>Rajasthan</td>\n",
       "      <td>Jaipur</td>\n",
       "      <td>City Palace</td>\n",
       "      <td>Palace</td>\n",
       "      <td>1727</td>\n",
       "      <td>2.0</td>\n",
       "      <td>4.4</td>\n",
       "      <td>200</td>\n",
       "      <td>Yes</td>\n",
       "      <td>None</td>\n",
       "      <td>Historical</td>\n",
       "      <td>Yes</td>\n",
       "      <td>0.51</td>\n",
       "      <td>Morning</td>\n",
       "    </tr>\n",
       "    <tr>\n",
       "      <th>324</th>\n",
       "      <td>324</td>\n",
       "      <td>Northern</td>\n",
       "      <td>Rajasthan</td>\n",
       "      <td>Jaipur</td>\n",
       "      <td>Albert Hall Museum</td>\n",
       "      <td>Museum</td>\n",
       "      <td>1887</td>\n",
       "      <td>2.0</td>\n",
       "      <td>4.5</td>\n",
       "      <td>200</td>\n",
       "      <td>Yes</td>\n",
       "      <td>None</td>\n",
       "      <td>Historical</td>\n",
       "      <td>Yes</td>\n",
       "      <td>0.63</td>\n",
       "      <td>All</td>\n",
       "    </tr>\n",
       "  </tbody>\n",
       "</table>\n",
       "<p>325 rows × 16 columns</p>\n",
       "</div>"
      ],
      "text/plain": [
       "     Unnamed: 0      Zone           State         City  \\\n",
       "0             0  Northern           Delhi        Delhi   \n",
       "1             1  Northern           Delhi        Delhi   \n",
       "2             2  Northern           Delhi        Delhi   \n",
       "3             3  Northern           Delhi        Delhi   \n",
       "4             4  Northern           Delhi        Delhi   \n",
       "..          ...       ...             ...          ...   \n",
       "320         320   Western         Gujarat  Gandhinagar   \n",
       "321         321   Central   Uttar Pradesh         Agra   \n",
       "322         322   Central  Madhya Pradesh       Bhopal   \n",
       "323         323  Northern       Rajasthan       Jaipur   \n",
       "324         324  Northern       Rajasthan       Jaipur   \n",
       "\n",
       "                             Name          Type Establishment Year  \\\n",
       "0                      India Gate  War Memorial               1921   \n",
       "1                  Humayun's Tomb          Tomb               1572   \n",
       "2               Akshardham Temple        Temple               2005   \n",
       "3            Waste to Wonder Park    Theme Park               2019   \n",
       "4                   Jantar Mantar   Observatory               1724   \n",
       "..                            ...           ...                ...   \n",
       "320                    Akshardham        Temple               1992   \n",
       "321                     Agra Fort          Fort               1565   \n",
       "322  Madhya Pradesh Tribal Museum        Museum               2013   \n",
       "323                   City Palace        Palace               1727   \n",
       "324            Albert Hall Museum        Museum               1887   \n",
       "\n",
       "     time needed to visit in hrs  Google review rating  Entrance Fee in INR  \\\n",
       "0                            0.5                   4.6                    0   \n",
       "1                            2.0                   4.5                   30   \n",
       "2                            5.0                   4.6                   60   \n",
       "3                            2.0                   4.1                   50   \n",
       "4                            2.0                   4.2                   15   \n",
       "..                           ...                   ...                  ...   \n",
       "320                          3.0                   4.6                    0   \n",
       "321                          2.0                   4.5                   40   \n",
       "322                          2.0                   4.7                   10   \n",
       "323                          2.0                   4.4                  200   \n",
       "324                          2.0                   4.5                  200   \n",
       "\n",
       "    Airport with 50km Radius Weekly Off   Significance DSLR Allowed  \\\n",
       "0                        Yes       None     Historical          Yes   \n",
       "1                        Yes       None     Historical          Yes   \n",
       "2                        Yes       None      Religious           No   \n",
       "3                        Yes     Monday  Environmental          Yes   \n",
       "4                        Yes       None     Scientific          Yes   \n",
       "..                       ...        ...            ...          ...   \n",
       "320                      Yes     Monday      Religious           No   \n",
       "321                      Yes       None     Historical          Yes   \n",
       "322                      Yes     Monday       Cultural          Yes   \n",
       "323                      Yes       None     Historical          Yes   \n",
       "324                      Yes       None     Historical          Yes   \n",
       "\n",
       "     Number of google review in lakhs Best Time to visit  \n",
       "0                                2.60            Evening  \n",
       "1                                0.40          Afternoon  \n",
       "2                                0.40          Afternoon  \n",
       "3                                0.27            Evening  \n",
       "4                                0.31            Morning  \n",
       "..                                ...                ...  \n",
       "320                              0.18                All  \n",
       "321                              1.30          Afternoon  \n",
       "322                              0.15                All  \n",
       "323                              0.51            Morning  \n",
       "324                              0.63                All  \n",
       "\n",
       "[325 rows x 16 columns]"
      ]
     },
     "execution_count": 137,
     "metadata": {},
     "output_type": "execute_result"
    }
   ],
   "source": [
    "df"
   ]
  },
  {
   "cell_type": "code",
   "execution_count": 138,
   "id": "d37c3529-7caa-45f0-9a24-ea158024f6de",
   "metadata": {},
   "outputs": [
    {
     "data": {
      "text/html": [
       "<div>\n",
       "<style scoped>\n",
       "    .dataframe tbody tr th:only-of-type {\n",
       "        vertical-align: middle;\n",
       "    }\n",
       "\n",
       "    .dataframe tbody tr th {\n",
       "        vertical-align: top;\n",
       "    }\n",
       "\n",
       "    .dataframe thead th {\n",
       "        text-align: right;\n",
       "    }\n",
       "</style>\n",
       "<table border=\"1\" class=\"dataframe\">\n",
       "  <thead>\n",
       "    <tr style=\"text-align: right;\">\n",
       "      <th></th>\n",
       "      <th>Type</th>\n",
       "      <th>Google review rating</th>\n",
       "      <th>Number of google review in lakhs</th>\n",
       "      <th>Entrance Fee in INR</th>\n",
       "    </tr>\n",
       "  </thead>\n",
       "  <tbody>\n",
       "    <tr>\n",
       "      <th>0</th>\n",
       "      <td>War Memorial</td>\n",
       "      <td>4.6</td>\n",
       "      <td>2.60</td>\n",
       "      <td>0</td>\n",
       "    </tr>\n",
       "    <tr>\n",
       "      <th>1</th>\n",
       "      <td>Tomb</td>\n",
       "      <td>4.5</td>\n",
       "      <td>0.40</td>\n",
       "      <td>30</td>\n",
       "    </tr>\n",
       "    <tr>\n",
       "      <th>2</th>\n",
       "      <td>Temple</td>\n",
       "      <td>4.6</td>\n",
       "      <td>0.40</td>\n",
       "      <td>60</td>\n",
       "    </tr>\n",
       "    <tr>\n",
       "      <th>3</th>\n",
       "      <td>Theme Park</td>\n",
       "      <td>4.1</td>\n",
       "      <td>0.27</td>\n",
       "      <td>50</td>\n",
       "    </tr>\n",
       "    <tr>\n",
       "      <th>4</th>\n",
       "      <td>Observatory</td>\n",
       "      <td>4.2</td>\n",
       "      <td>0.31</td>\n",
       "      <td>15</td>\n",
       "    </tr>\n",
       "    <tr>\n",
       "      <th>...</th>\n",
       "      <td>...</td>\n",
       "      <td>...</td>\n",
       "      <td>...</td>\n",
       "      <td>...</td>\n",
       "    </tr>\n",
       "    <tr>\n",
       "      <th>320</th>\n",
       "      <td>Temple</td>\n",
       "      <td>4.6</td>\n",
       "      <td>0.18</td>\n",
       "      <td>0</td>\n",
       "    </tr>\n",
       "    <tr>\n",
       "      <th>321</th>\n",
       "      <td>Fort</td>\n",
       "      <td>4.5</td>\n",
       "      <td>1.30</td>\n",
       "      <td>40</td>\n",
       "    </tr>\n",
       "    <tr>\n",
       "      <th>322</th>\n",
       "      <td>Museum</td>\n",
       "      <td>4.7</td>\n",
       "      <td>0.15</td>\n",
       "      <td>10</td>\n",
       "    </tr>\n",
       "    <tr>\n",
       "      <th>323</th>\n",
       "      <td>Palace</td>\n",
       "      <td>4.4</td>\n",
       "      <td>0.51</td>\n",
       "      <td>200</td>\n",
       "    </tr>\n",
       "    <tr>\n",
       "      <th>324</th>\n",
       "      <td>Museum</td>\n",
       "      <td>4.5</td>\n",
       "      <td>0.63</td>\n",
       "      <td>200</td>\n",
       "    </tr>\n",
       "  </tbody>\n",
       "</table>\n",
       "<p>325 rows × 4 columns</p>\n",
       "</div>"
      ],
      "text/plain": [
       "             Type  Google review rating  Number of google review in lakhs  \\\n",
       "0    War Memorial                   4.6                              2.60   \n",
       "1            Tomb                   4.5                              0.40   \n",
       "2          Temple                   4.6                              0.40   \n",
       "3      Theme Park                   4.1                              0.27   \n",
       "4     Observatory                   4.2                              0.31   \n",
       "..            ...                   ...                               ...   \n",
       "320        Temple                   4.6                              0.18   \n",
       "321          Fort                   4.5                              1.30   \n",
       "322        Museum                   4.7                              0.15   \n",
       "323        Palace                   4.4                              0.51   \n",
       "324        Museum                   4.5                              0.63   \n",
       "\n",
       "     Entrance Fee in INR  \n",
       "0                      0  \n",
       "1                     30  \n",
       "2                     60  \n",
       "3                     50  \n",
       "4                     15  \n",
       "..                   ...  \n",
       "320                    0  \n",
       "321                   40  \n",
       "322                   10  \n",
       "323                  200  \n",
       "324                  200  \n",
       "\n",
       "[325 rows x 4 columns]"
      ]
     },
     "execution_count": 138,
     "metadata": {},
     "output_type": "execute_result"
    }
   ],
   "source": [
    "col = ['Type','Google review rating','Number of google review in lakhs','Entrance Fee in INR']\n",
    "df = df[col]\n",
    "df"
   ]
  },
  {
   "cell_type": "code",
   "execution_count": 139,
   "id": "59f32253-fc3a-411c-ad5c-dd5822b09288",
   "metadata": {},
   "outputs": [
    {
     "data": {
      "text/plain": [
       "array([   0,   30,   60,   50,   15,   35,   20,   80,   70,  500, 1149,\n",
       "        550,   25, 1150, 2500,   10, 3500,  200, 7500,  350,  300,  100,\n",
       "         40,  750,   75,  150, 1500,    5,  250,   65,  650, 1100,  890],\n",
       "      dtype=int64)"
      ]
     },
     "execution_count": 139,
     "metadata": {},
     "output_type": "execute_result"
    }
   ],
   "source": [
    "df['Entrance Fee in INR'].unique()"
   ]
  },
  {
   "cell_type": "code",
   "execution_count": 140,
   "id": "4466129d-a648-4d61-aa8c-2a6a40749002",
   "metadata": {},
   "outputs": [
    {
     "data": {
      "text/plain": [
       "0       183\n",
       "50       21\n",
       "20       19\n",
       "30       13\n",
       "10       12\n",
       "100       8\n",
       "500       7\n",
       "40        7\n",
       "25        6\n",
       "300       5\n",
       "15        5\n",
       "150       4\n",
       "35        4\n",
       "200       4\n",
       "60        4\n",
       "1149      2\n",
       "2500      2\n",
       "80        2\n",
       "250       2\n",
       "1500      2\n",
       "1100      1\n",
       "650       1\n",
       "65        1\n",
       "5         1\n",
       "3500      1\n",
       "75        1\n",
       "750       1\n",
       "350       1\n",
       "7500      1\n",
       "1150      1\n",
       "550       1\n",
       "70        1\n",
       "890       1\n",
       "Name: Entrance Fee in INR, dtype: int64"
      ]
     },
     "execution_count": 140,
     "metadata": {},
     "output_type": "execute_result"
    }
   ],
   "source": [
    "df['Entrance Fee in INR'].value_counts()"
   ]
  },
  {
   "cell_type": "code",
   "execution_count": 141,
   "id": "a63b988f-f628-4ce4-8a24-659542d92d96",
   "metadata": {},
   "outputs": [],
   "source": [
    "df = df[df['Entrance Fee in INR'] != 0]"
   ]
  },
  {
   "cell_type": "code",
   "execution_count": 142,
   "id": "4b90bb7e-baec-42f0-82a7-206d7406a506",
   "metadata": {},
   "outputs": [
    {
     "data": {
      "text/plain": [
       "50      21\n",
       "20      19\n",
       "30      13\n",
       "10      12\n",
       "100      8\n",
       "40       7\n",
       "500      7\n",
       "25       6\n",
       "15       5\n",
       "300      5\n",
       "150      4\n",
       "60       4\n",
       "200      4\n",
       "35       4\n",
       "2500     2\n",
       "250      2\n",
       "1149     2\n",
       "80       2\n",
       "1500     2\n",
       "1100     1\n",
       "650      1\n",
       "65       1\n",
       "5        1\n",
       "750      1\n",
       "75       1\n",
       "1150     1\n",
       "70       1\n",
       "350      1\n",
       "7500     1\n",
       "550      1\n",
       "3500     1\n",
       "890      1\n",
       "Name: Entrance Fee in INR, dtype: int64"
      ]
     },
     "execution_count": 142,
     "metadata": {},
     "output_type": "execute_result"
    }
   ],
   "source": [
    "df['Entrance Fee in INR'].value_counts()"
   ]
  },
  {
   "cell_type": "code",
   "execution_count": 143,
   "id": "b9628b1f-210b-464a-b1a8-6f835014f570",
   "metadata": {},
   "outputs": [
    {
     "name": "stdout",
     "output_type": "stream",
     "text": [
      "<class 'pandas.core.frame.DataFrame'>\n",
      "Int64Index: 142 entries, 1 to 324\n",
      "Data columns (total 4 columns):\n",
      " #   Column                            Non-Null Count  Dtype  \n",
      "---  ------                            --------------  -----  \n",
      " 0   Type                              142 non-null    object \n",
      " 1   Google review rating              142 non-null    float64\n",
      " 2   Number of google review in lakhs  142 non-null    float64\n",
      " 3   Entrance Fee in INR               142 non-null    int64  \n",
      "dtypes: float64(2), int64(1), object(1)\n",
      "memory usage: 5.5+ KB\n"
     ]
    }
   ],
   "source": [
    "df.info()"
   ]
  },
  {
   "cell_type": "code",
   "execution_count": 144,
   "id": "3c618c5f-a991-4122-9262-3f51ce7aa94e",
   "metadata": {},
   "outputs": [],
   "source": [
    "df['Google review rating'] = df['Google review rating'].astype('int64')\n",
    "df['Number of google review in lakhs'] = df['Number of google review in lakhs'].astype('int64')"
   ]
  },
  {
   "cell_type": "code",
   "execution_count": 145,
   "id": "50bf96c3-c919-444e-9d04-8725ff8015f6",
   "metadata": {},
   "outputs": [
    {
     "name": "stdout",
     "output_type": "stream",
     "text": [
      "<class 'pandas.core.frame.DataFrame'>\n",
      "Int64Index: 142 entries, 1 to 324\n",
      "Data columns (total 4 columns):\n",
      " #   Column                            Non-Null Count  Dtype \n",
      "---  ------                            --------------  ----- \n",
      " 0   Type                              142 non-null    object\n",
      " 1   Google review rating              142 non-null    int64 \n",
      " 2   Number of google review in lakhs  142 non-null    int64 \n",
      " 3   Entrance Fee in INR               142 non-null    int64 \n",
      "dtypes: int64(3), object(1)\n",
      "memory usage: 5.5+ KB\n"
     ]
    }
   ],
   "source": [
    "df.info()"
   ]
  },
  {
   "cell_type": "code",
   "execution_count": 146,
   "id": "22356f4b-75cb-431f-90ca-da983522def7",
   "metadata": {},
   "outputs": [
    {
     "data": {
      "text/html": [
       "<div>\n",
       "<style scoped>\n",
       "    .dataframe tbody tr th:only-of-type {\n",
       "        vertical-align: middle;\n",
       "    }\n",
       "\n",
       "    .dataframe tbody tr th {\n",
       "        vertical-align: top;\n",
       "    }\n",
       "\n",
       "    .dataframe thead th {\n",
       "        text-align: right;\n",
       "    }\n",
       "</style>\n",
       "<table border=\"1\" class=\"dataframe\">\n",
       "  <thead>\n",
       "    <tr style=\"text-align: right;\">\n",
       "      <th></th>\n",
       "      <th>Google review rating</th>\n",
       "      <th>Number of google review in lakhs</th>\n",
       "      <th>Entrance Fee in INR</th>\n",
       "    </tr>\n",
       "  </thead>\n",
       "  <tbody>\n",
       "    <tr>\n",
       "      <th>count</th>\n",
       "      <td>142.000000</td>\n",
       "      <td>142.000000</td>\n",
       "      <td>142.000000</td>\n",
       "    </tr>\n",
       "    <tr>\n",
       "      <th>mean</th>\n",
       "      <td>3.943662</td>\n",
       "      <td>0.169014</td>\n",
       "      <td>265.056338</td>\n",
       "    </tr>\n",
       "    <tr>\n",
       "      <th>std</th>\n",
       "      <td>0.309991</td>\n",
       "      <td>0.704311</td>\n",
       "      <td>779.569628</td>\n",
       "    </tr>\n",
       "    <tr>\n",
       "      <th>min</th>\n",
       "      <td>1.000000</td>\n",
       "      <td>0.000000</td>\n",
       "      <td>5.000000</td>\n",
       "    </tr>\n",
       "    <tr>\n",
       "      <th>25%</th>\n",
       "      <td>4.000000</td>\n",
       "      <td>0.000000</td>\n",
       "      <td>20.000000</td>\n",
       "    </tr>\n",
       "    <tr>\n",
       "      <th>50%</th>\n",
       "      <td>4.000000</td>\n",
       "      <td>0.000000</td>\n",
       "      <td>50.000000</td>\n",
       "    </tr>\n",
       "    <tr>\n",
       "      <th>75%</th>\n",
       "      <td>4.000000</td>\n",
       "      <td>0.000000</td>\n",
       "      <td>150.000000</td>\n",
       "    </tr>\n",
       "    <tr>\n",
       "      <th>max</th>\n",
       "      <td>4.000000</td>\n",
       "      <td>7.000000</td>\n",
       "      <td>7500.000000</td>\n",
       "    </tr>\n",
       "  </tbody>\n",
       "</table>\n",
       "</div>"
      ],
      "text/plain": [
       "       Google review rating  Number of google review in lakhs  \\\n",
       "count            142.000000                        142.000000   \n",
       "mean               3.943662                          0.169014   \n",
       "std                0.309991                          0.704311   \n",
       "min                1.000000                          0.000000   \n",
       "25%                4.000000                          0.000000   \n",
       "50%                4.000000                          0.000000   \n",
       "75%                4.000000                          0.000000   \n",
       "max                4.000000                          7.000000   \n",
       "\n",
       "       Entrance Fee in INR  \n",
       "count           142.000000  \n",
       "mean            265.056338  \n",
       "std             779.569628  \n",
       "min               5.000000  \n",
       "25%              20.000000  \n",
       "50%              50.000000  \n",
       "75%             150.000000  \n",
       "max            7500.000000  "
      ]
     },
     "execution_count": 146,
     "metadata": {},
     "output_type": "execute_result"
    }
   ],
   "source": [
    "df.describe()"
   ]
  },
  {
   "cell_type": "code",
   "execution_count": 147,
   "id": "c4002262-c739-4499-b41c-bab687d41881",
   "metadata": {},
   "outputs": [
    {
     "data": {
      "text/plain": [
       "(142, 4)"
      ]
     },
     "execution_count": 147,
     "metadata": {},
     "output_type": "execute_result"
    }
   ],
   "source": [
    "df.shape"
   ]
  },
  {
   "cell_type": "code",
   "execution_count": 148,
   "id": "05a9d661-68a7-47e2-9ac4-7c5e50b62feb",
   "metadata": {},
   "outputs": [],
   "source": [
    "df = pd.get_dummies(df,dtype='int')"
   ]
  },
  {
   "cell_type": "code",
   "execution_count": 149,
   "id": "0328fa56-eee4-4377-bd71-6d25589aea3e",
   "metadata": {},
   "outputs": [
    {
     "data": {
      "text/html": [
       "<div>\n",
       "<style scoped>\n",
       "    .dataframe tbody tr th:only-of-type {\n",
       "        vertical-align: middle;\n",
       "    }\n",
       "\n",
       "    .dataframe tbody tr th {\n",
       "        vertical-align: top;\n",
       "    }\n",
       "\n",
       "    .dataframe thead th {\n",
       "        text-align: right;\n",
       "    }\n",
       "</style>\n",
       "<table border=\"1\" class=\"dataframe\">\n",
       "  <thead>\n",
       "    <tr style=\"text-align: right;\">\n",
       "      <th></th>\n",
       "      <th>Google review rating</th>\n",
       "      <th>Number of google review in lakhs</th>\n",
       "      <th>Entrance Fee in INR</th>\n",
       "      <th>Type_Adventure Sport</th>\n",
       "      <th>Type_Amusement Park</th>\n",
       "      <th>Type_Aquarium</th>\n",
       "      <th>Type_Beach</th>\n",
       "      <th>Type_Bird Sanctuary</th>\n",
       "      <th>Type_Botanical Garden</th>\n",
       "      <th>Type_Cave</th>\n",
       "      <th>...</th>\n",
       "      <th>Type_Temple</th>\n",
       "      <th>Type_Temples</th>\n",
       "      <th>Type_Theme Park</th>\n",
       "      <th>Type_Tomb</th>\n",
       "      <th>Type_Tombs</th>\n",
       "      <th>Type_Valley</th>\n",
       "      <th>Type_Vineyard</th>\n",
       "      <th>Type_Waterfall</th>\n",
       "      <th>Type_Wildlife Sanctuary</th>\n",
       "      <th>Type_Zoo</th>\n",
       "    </tr>\n",
       "  </thead>\n",
       "  <tbody>\n",
       "    <tr>\n",
       "      <th>1</th>\n",
       "      <td>4</td>\n",
       "      <td>0</td>\n",
       "      <td>30</td>\n",
       "      <td>0</td>\n",
       "      <td>0</td>\n",
       "      <td>0</td>\n",
       "      <td>0</td>\n",
       "      <td>0</td>\n",
       "      <td>0</td>\n",
       "      <td>0</td>\n",
       "      <td>...</td>\n",
       "      <td>0</td>\n",
       "      <td>0</td>\n",
       "      <td>0</td>\n",
       "      <td>1</td>\n",
       "      <td>0</td>\n",
       "      <td>0</td>\n",
       "      <td>0</td>\n",
       "      <td>0</td>\n",
       "      <td>0</td>\n",
       "      <td>0</td>\n",
       "    </tr>\n",
       "    <tr>\n",
       "      <th>2</th>\n",
       "      <td>4</td>\n",
       "      <td>0</td>\n",
       "      <td>60</td>\n",
       "      <td>0</td>\n",
       "      <td>0</td>\n",
       "      <td>0</td>\n",
       "      <td>0</td>\n",
       "      <td>0</td>\n",
       "      <td>0</td>\n",
       "      <td>0</td>\n",
       "      <td>...</td>\n",
       "      <td>1</td>\n",
       "      <td>0</td>\n",
       "      <td>0</td>\n",
       "      <td>0</td>\n",
       "      <td>0</td>\n",
       "      <td>0</td>\n",
       "      <td>0</td>\n",
       "      <td>0</td>\n",
       "      <td>0</td>\n",
       "      <td>0</td>\n",
       "    </tr>\n",
       "    <tr>\n",
       "      <th>3</th>\n",
       "      <td>4</td>\n",
       "      <td>0</td>\n",
       "      <td>50</td>\n",
       "      <td>0</td>\n",
       "      <td>0</td>\n",
       "      <td>0</td>\n",
       "      <td>0</td>\n",
       "      <td>0</td>\n",
       "      <td>0</td>\n",
       "      <td>0</td>\n",
       "      <td>...</td>\n",
       "      <td>0</td>\n",
       "      <td>0</td>\n",
       "      <td>1</td>\n",
       "      <td>0</td>\n",
       "      <td>0</td>\n",
       "      <td>0</td>\n",
       "      <td>0</td>\n",
       "      <td>0</td>\n",
       "      <td>0</td>\n",
       "      <td>0</td>\n",
       "    </tr>\n",
       "    <tr>\n",
       "      <th>4</th>\n",
       "      <td>4</td>\n",
       "      <td>0</td>\n",
       "      <td>15</td>\n",
       "      <td>0</td>\n",
       "      <td>0</td>\n",
       "      <td>0</td>\n",
       "      <td>0</td>\n",
       "      <td>0</td>\n",
       "      <td>0</td>\n",
       "      <td>0</td>\n",
       "      <td>...</td>\n",
       "      <td>0</td>\n",
       "      <td>0</td>\n",
       "      <td>0</td>\n",
       "      <td>0</td>\n",
       "      <td>0</td>\n",
       "      <td>0</td>\n",
       "      <td>0</td>\n",
       "      <td>0</td>\n",
       "      <td>0</td>\n",
       "      <td>0</td>\n",
       "    </tr>\n",
       "    <tr>\n",
       "      <th>7</th>\n",
       "      <td>4</td>\n",
       "      <td>1</td>\n",
       "      <td>35</td>\n",
       "      <td>0</td>\n",
       "      <td>0</td>\n",
       "      <td>0</td>\n",
       "      <td>0</td>\n",
       "      <td>0</td>\n",
       "      <td>0</td>\n",
       "      <td>0</td>\n",
       "      <td>...</td>\n",
       "      <td>0</td>\n",
       "      <td>0</td>\n",
       "      <td>0</td>\n",
       "      <td>0</td>\n",
       "      <td>0</td>\n",
       "      <td>0</td>\n",
       "      <td>0</td>\n",
       "      <td>0</td>\n",
       "      <td>0</td>\n",
       "      <td>0</td>\n",
       "    </tr>\n",
       "    <tr>\n",
       "      <th>...</th>\n",
       "      <td>...</td>\n",
       "      <td>...</td>\n",
       "      <td>...</td>\n",
       "      <td>...</td>\n",
       "      <td>...</td>\n",
       "      <td>...</td>\n",
       "      <td>...</td>\n",
       "      <td>...</td>\n",
       "      <td>...</td>\n",
       "      <td>...</td>\n",
       "      <td>...</td>\n",
       "      <td>...</td>\n",
       "      <td>...</td>\n",
       "      <td>...</td>\n",
       "      <td>...</td>\n",
       "      <td>...</td>\n",
       "      <td>...</td>\n",
       "      <td>...</td>\n",
       "      <td>...</td>\n",
       "      <td>...</td>\n",
       "      <td>...</td>\n",
       "    </tr>\n",
       "    <tr>\n",
       "      <th>318</th>\n",
       "      <td>4</td>\n",
       "      <td>0</td>\n",
       "      <td>50</td>\n",
       "      <td>0</td>\n",
       "      <td>0</td>\n",
       "      <td>0</td>\n",
       "      <td>0</td>\n",
       "      <td>0</td>\n",
       "      <td>0</td>\n",
       "      <td>0</td>\n",
       "      <td>...</td>\n",
       "      <td>0</td>\n",
       "      <td>0</td>\n",
       "      <td>0</td>\n",
       "      <td>0</td>\n",
       "      <td>0</td>\n",
       "      <td>0</td>\n",
       "      <td>0</td>\n",
       "      <td>0</td>\n",
       "      <td>0</td>\n",
       "      <td>0</td>\n",
       "    </tr>\n",
       "    <tr>\n",
       "      <th>321</th>\n",
       "      <td>4</td>\n",
       "      <td>1</td>\n",
       "      <td>40</td>\n",
       "      <td>0</td>\n",
       "      <td>0</td>\n",
       "      <td>0</td>\n",
       "      <td>0</td>\n",
       "      <td>0</td>\n",
       "      <td>0</td>\n",
       "      <td>0</td>\n",
       "      <td>...</td>\n",
       "      <td>0</td>\n",
       "      <td>0</td>\n",
       "      <td>0</td>\n",
       "      <td>0</td>\n",
       "      <td>0</td>\n",
       "      <td>0</td>\n",
       "      <td>0</td>\n",
       "      <td>0</td>\n",
       "      <td>0</td>\n",
       "      <td>0</td>\n",
       "    </tr>\n",
       "    <tr>\n",
       "      <th>322</th>\n",
       "      <td>4</td>\n",
       "      <td>0</td>\n",
       "      <td>10</td>\n",
       "      <td>0</td>\n",
       "      <td>0</td>\n",
       "      <td>0</td>\n",
       "      <td>0</td>\n",
       "      <td>0</td>\n",
       "      <td>0</td>\n",
       "      <td>0</td>\n",
       "      <td>...</td>\n",
       "      <td>0</td>\n",
       "      <td>0</td>\n",
       "      <td>0</td>\n",
       "      <td>0</td>\n",
       "      <td>0</td>\n",
       "      <td>0</td>\n",
       "      <td>0</td>\n",
       "      <td>0</td>\n",
       "      <td>0</td>\n",
       "      <td>0</td>\n",
       "    </tr>\n",
       "    <tr>\n",
       "      <th>323</th>\n",
       "      <td>4</td>\n",
       "      <td>0</td>\n",
       "      <td>200</td>\n",
       "      <td>0</td>\n",
       "      <td>0</td>\n",
       "      <td>0</td>\n",
       "      <td>0</td>\n",
       "      <td>0</td>\n",
       "      <td>0</td>\n",
       "      <td>0</td>\n",
       "      <td>...</td>\n",
       "      <td>0</td>\n",
       "      <td>0</td>\n",
       "      <td>0</td>\n",
       "      <td>0</td>\n",
       "      <td>0</td>\n",
       "      <td>0</td>\n",
       "      <td>0</td>\n",
       "      <td>0</td>\n",
       "      <td>0</td>\n",
       "      <td>0</td>\n",
       "    </tr>\n",
       "    <tr>\n",
       "      <th>324</th>\n",
       "      <td>4</td>\n",
       "      <td>0</td>\n",
       "      <td>200</td>\n",
       "      <td>0</td>\n",
       "      <td>0</td>\n",
       "      <td>0</td>\n",
       "      <td>0</td>\n",
       "      <td>0</td>\n",
       "      <td>0</td>\n",
       "      <td>0</td>\n",
       "      <td>...</td>\n",
       "      <td>0</td>\n",
       "      <td>0</td>\n",
       "      <td>0</td>\n",
       "      <td>0</td>\n",
       "      <td>0</td>\n",
       "      <td>0</td>\n",
       "      <td>0</td>\n",
       "      <td>0</td>\n",
       "      <td>0</td>\n",
       "      <td>0</td>\n",
       "    </tr>\n",
       "  </tbody>\n",
       "</table>\n",
       "<p>142 rows × 47 columns</p>\n",
       "</div>"
      ],
      "text/plain": [
       "     Google review rating  Number of google review in lakhs  \\\n",
       "1                       4                                 0   \n",
       "2                       4                                 0   \n",
       "3                       4                                 0   \n",
       "4                       4                                 0   \n",
       "7                       4                                 1   \n",
       "..                    ...                               ...   \n",
       "318                     4                                 0   \n",
       "321                     4                                 1   \n",
       "322                     4                                 0   \n",
       "323                     4                                 0   \n",
       "324                     4                                 0   \n",
       "\n",
       "     Entrance Fee in INR  Type_Adventure Sport  Type_Amusement Park  \\\n",
       "1                     30                     0                    0   \n",
       "2                     60                     0                    0   \n",
       "3                     50                     0                    0   \n",
       "4                     15                     0                    0   \n",
       "7                     35                     0                    0   \n",
       "..                   ...                   ...                  ...   \n",
       "318                   50                     0                    0   \n",
       "321                   40                     0                    0   \n",
       "322                   10                     0                    0   \n",
       "323                  200                     0                    0   \n",
       "324                  200                     0                    0   \n",
       "\n",
       "     Type_Aquarium  Type_Beach  Type_Bird Sanctuary  Type_Botanical Garden  \\\n",
       "1                0           0                    0                      0   \n",
       "2                0           0                    0                      0   \n",
       "3                0           0                    0                      0   \n",
       "4                0           0                    0                      0   \n",
       "7                0           0                    0                      0   \n",
       "..             ...         ...                  ...                    ...   \n",
       "318              0           0                    0                      0   \n",
       "321              0           0                    0                      0   \n",
       "322              0           0                    0                      0   \n",
       "323              0           0                    0                      0   \n",
       "324              0           0                    0                      0   \n",
       "\n",
       "     Type_Cave  ...  Type_Temple  Type_Temples  Type_Theme Park  Type_Tomb  \\\n",
       "1            0  ...            0             0                0          1   \n",
       "2            0  ...            1             0                0          0   \n",
       "3            0  ...            0             0                1          0   \n",
       "4            0  ...            0             0                0          0   \n",
       "7            0  ...            0             0                0          0   \n",
       "..         ...  ...          ...           ...              ...        ...   \n",
       "318          0  ...            0             0                0          0   \n",
       "321          0  ...            0             0                0          0   \n",
       "322          0  ...            0             0                0          0   \n",
       "323          0  ...            0             0                0          0   \n",
       "324          0  ...            0             0                0          0   \n",
       "\n",
       "     Type_Tombs  Type_Valley  Type_Vineyard  Type_Waterfall  \\\n",
       "1             0            0              0               0   \n",
       "2             0            0              0               0   \n",
       "3             0            0              0               0   \n",
       "4             0            0              0               0   \n",
       "7             0            0              0               0   \n",
       "..          ...          ...            ...             ...   \n",
       "318           0            0              0               0   \n",
       "321           0            0              0               0   \n",
       "322           0            0              0               0   \n",
       "323           0            0              0               0   \n",
       "324           0            0              0               0   \n",
       "\n",
       "     Type_Wildlife Sanctuary  Type_Zoo  \n",
       "1                          0         0  \n",
       "2                          0         0  \n",
       "3                          0         0  \n",
       "4                          0         0  \n",
       "7                          0         0  \n",
       "..                       ...       ...  \n",
       "318                        0         0  \n",
       "321                        0         0  \n",
       "322                        0         0  \n",
       "323                        0         0  \n",
       "324                        0         0  \n",
       "\n",
       "[142 rows x 47 columns]"
      ]
     },
     "execution_count": 149,
     "metadata": {},
     "output_type": "execute_result"
    }
   ],
   "source": [
    "df"
   ]
  },
  {
   "cell_type": "code",
   "execution_count": 150,
   "id": "12e717ae-cc61-4ffe-b8ee-2b9ac538ed07",
   "metadata": {},
   "outputs": [],
   "source": [
    "X = df.drop(columns = ['Entrance Fee in INR'])\n",
    "Y = df['Entrance Fee in INR']"
   ]
  },
  {
   "cell_type": "code",
   "execution_count": 151,
   "id": "4773f31d-81ac-466a-9aa7-a68b131c3c15",
   "metadata": {},
   "outputs": [],
   "source": [
    "X_train,X_test,Y_train,Y_test = train_test_split(X,Y,test_size=0.3)"
   ]
  },
  {
   "cell_type": "code",
   "execution_count": 152,
   "id": "9ef0d4a9-e9b0-4ae0-a851-a3da64ecb482",
   "metadata": {},
   "outputs": [
    {
     "data": {
      "text/plain": [
       "(99, 46)"
      ]
     },
     "execution_count": 152,
     "metadata": {},
     "output_type": "execute_result"
    }
   ],
   "source": [
    "X_train.shape"
   ]
  },
  {
   "cell_type": "code",
   "execution_count": 153,
   "id": "d570f464-b456-4061-9a18-ada4625137e4",
   "metadata": {},
   "outputs": [
    {
     "data": {
      "text/html": [
       "<style>#sk-container-id-17 {color: black;}#sk-container-id-17 pre{padding: 0;}#sk-container-id-17 div.sk-toggleable {background-color: white;}#sk-container-id-17 label.sk-toggleable__label {cursor: pointer;display: block;width: 100%;margin-bottom: 0;padding: 0.3em;box-sizing: border-box;text-align: center;}#sk-container-id-17 label.sk-toggleable__label-arrow:before {content: \"▸\";float: left;margin-right: 0.25em;color: #696969;}#sk-container-id-17 label.sk-toggleable__label-arrow:hover:before {color: black;}#sk-container-id-17 div.sk-estimator:hover label.sk-toggleable__label-arrow:before {color: black;}#sk-container-id-17 div.sk-toggleable__content {max-height: 0;max-width: 0;overflow: hidden;text-align: left;background-color: #f0f8ff;}#sk-container-id-17 div.sk-toggleable__content pre {margin: 0.2em;color: black;border-radius: 0.25em;background-color: #f0f8ff;}#sk-container-id-17 input.sk-toggleable__control:checked~div.sk-toggleable__content {max-height: 200px;max-width: 100%;overflow: auto;}#sk-container-id-17 input.sk-toggleable__control:checked~label.sk-toggleable__label-arrow:before {content: \"▾\";}#sk-container-id-17 div.sk-estimator input.sk-toggleable__control:checked~label.sk-toggleable__label {background-color: #d4ebff;}#sk-container-id-17 div.sk-label input.sk-toggleable__control:checked~label.sk-toggleable__label {background-color: #d4ebff;}#sk-container-id-17 input.sk-hidden--visually {border: 0;clip: rect(1px 1px 1px 1px);clip: rect(1px, 1px, 1px, 1px);height: 1px;margin: -1px;overflow: hidden;padding: 0;position: absolute;width: 1px;}#sk-container-id-17 div.sk-estimator {font-family: monospace;background-color: #f0f8ff;border: 1px dotted black;border-radius: 0.25em;box-sizing: border-box;margin-bottom: 0.5em;}#sk-container-id-17 div.sk-estimator:hover {background-color: #d4ebff;}#sk-container-id-17 div.sk-parallel-item::after {content: \"\";width: 100%;border-bottom: 1px solid gray;flex-grow: 1;}#sk-container-id-17 div.sk-label:hover label.sk-toggleable__label {background-color: #d4ebff;}#sk-container-id-17 div.sk-serial::before {content: \"\";position: absolute;border-left: 1px solid gray;box-sizing: border-box;top: 0;bottom: 0;left: 50%;z-index: 0;}#sk-container-id-17 div.sk-serial {display: flex;flex-direction: column;align-items: center;background-color: white;padding-right: 0.2em;padding-left: 0.2em;position: relative;}#sk-container-id-17 div.sk-item {position: relative;z-index: 1;}#sk-container-id-17 div.sk-parallel {display: flex;align-items: stretch;justify-content: center;background-color: white;position: relative;}#sk-container-id-17 div.sk-item::before, #sk-container-id-17 div.sk-parallel-item::before {content: \"\";position: absolute;border-left: 1px solid gray;box-sizing: border-box;top: 0;bottom: 0;left: 50%;z-index: -1;}#sk-container-id-17 div.sk-parallel-item {display: flex;flex-direction: column;z-index: 1;position: relative;background-color: white;}#sk-container-id-17 div.sk-parallel-item:first-child::after {align-self: flex-end;width: 50%;}#sk-container-id-17 div.sk-parallel-item:last-child::after {align-self: flex-start;width: 50%;}#sk-container-id-17 div.sk-parallel-item:only-child::after {width: 0;}#sk-container-id-17 div.sk-dashed-wrapped {border: 1px dashed gray;margin: 0 0.4em 0.5em 0.4em;box-sizing: border-box;padding-bottom: 0.4em;background-color: white;}#sk-container-id-17 div.sk-label label {font-family: monospace;font-weight: bold;display: inline-block;line-height: 1.2em;}#sk-container-id-17 div.sk-label-container {text-align: center;}#sk-container-id-17 div.sk-container {/* jupyter's `normalize.less` sets `[hidden] { display: none; }` but bootstrap.min.css set `[hidden] { display: none !important; }` so we also need the `!important` here to be able to override the default hidden behavior on the sphinx rendered scikit-learn.org. See: https://github.com/scikit-learn/scikit-learn/issues/21755 */display: inline-block !important;position: relative;}#sk-container-id-17 div.sk-text-repr-fallback {display: none;}</style><div id=\"sk-container-id-17\" class=\"sk-top-container\"><div class=\"sk-text-repr-fallback\"><pre>LinearRegression()</pre><b>In a Jupyter environment, please rerun this cell to show the HTML representation or trust the notebook. <br />On GitHub, the HTML representation is unable to render, please try loading this page with nbviewer.org.</b></div><div class=\"sk-container\" hidden><div class=\"sk-item\"><div class=\"sk-estimator sk-toggleable\"><input class=\"sk-toggleable__control sk-hidden--visually\" id=\"sk-estimator-id-17\" type=\"checkbox\" checked><label for=\"sk-estimator-id-17\" class=\"sk-toggleable__label sk-toggleable__label-arrow\">LinearRegression</label><div class=\"sk-toggleable__content\"><pre>LinearRegression()</pre></div></div></div></div></div>"
      ],
      "text/plain": [
       "LinearRegression()"
      ]
     },
     "execution_count": 153,
     "metadata": {},
     "output_type": "execute_result"
    }
   ],
   "source": [
    "model_lin = LinearRegression()\n",
    "model_lin.fit(X_train,Y_train)"
   ]
  },
  {
   "cell_type": "code",
   "execution_count": 154,
   "id": "ad741c85-bd92-4996-9047-229096203800",
   "metadata": {},
   "outputs": [
    {
     "data": {
      "text/plain": [
       "array([-1.50000000e+00,  2.48625000e+02,  1.05205425e+16,  1.56625000e+02,\n",
       "        1.56625000e+02,  2.48625000e+02,  5.43750000e+01,  5.17500000e+01,\n",
       "        6.86147892e+14,  3.07500000e+02,  1.08875000e+02,  1.56625000e+02,\n",
       "        4.26250000e+01,  2.32750000e+02,  8.75000000e+00,  1.19262500e+03,\n",
       "        5.17500000e+01,  5.17500000e+01,  1.20625000e+02,  7.50587500e+03,\n",
       "        7.88665082e+15,  1.12401556e+15,  1.56625000e+02,  4.26250000e+01,\n",
       "        5.17500000e+01,  2.21250000e+01,  1.20873918e+15,  1.98102217e+16,\n",
       "        1.56625000e+02,  1.56625000e+02,  1.56625000e+02,  1.20625000e+02,\n",
       "        4.26250000e+01,  3.07500000e+02,  1.02487500e+03,  1.08875000e+02,\n",
       "        1.20625000e+02,  1.08875000e+02,  1.12401556e+15,  1.12401556e+15,\n",
       "        1.02500000e+02,  1.20873918e+15,  1.79750000e+02])"
      ]
     },
     "execution_count": 154,
     "metadata": {},
     "output_type": "execute_result"
    }
   ],
   "source": [
    "model_lin.predict(X_test)"
   ]
  },
  {
   "cell_type": "code",
   "execution_count": 155,
   "id": "b34cc143-3b88-4cca-9333-81785c2d02bc",
   "metadata": {},
   "outputs": [
    {
     "data": {
      "text/plain": [
       "0.9810091646417493"
      ]
     },
     "execution_count": 155,
     "metadata": {},
     "output_type": "execute_result"
    }
   ],
   "source": [
    "model_lin.score(X_train,Y_train)"
   ]
  },
  {
   "cell_type": "code",
   "execution_count": 156,
   "id": "3fb3e751-effa-4522-95de-f8f602ec47ae",
   "metadata": {},
   "outputs": [
    {
     "data": {
      "text/plain": [
       "-3.0425303404818043e+25"
      ]
     },
     "execution_count": 156,
     "metadata": {},
     "output_type": "execute_result"
    }
   ],
   "source": [
    "model_lin.score(X_test,Y_test)"
   ]
  },
  {
   "cell_type": "code",
   "execution_count": 157,
   "id": "74669202-96f1-4f56-af79-66087ca5e5c6",
   "metadata": {},
   "outputs": [
    {
     "data": {
      "text/html": [
       "<style>#sk-container-id-18 {color: black;}#sk-container-id-18 pre{padding: 0;}#sk-container-id-18 div.sk-toggleable {background-color: white;}#sk-container-id-18 label.sk-toggleable__label {cursor: pointer;display: block;width: 100%;margin-bottom: 0;padding: 0.3em;box-sizing: border-box;text-align: center;}#sk-container-id-18 label.sk-toggleable__label-arrow:before {content: \"▸\";float: left;margin-right: 0.25em;color: #696969;}#sk-container-id-18 label.sk-toggleable__label-arrow:hover:before {color: black;}#sk-container-id-18 div.sk-estimator:hover label.sk-toggleable__label-arrow:before {color: black;}#sk-container-id-18 div.sk-toggleable__content {max-height: 0;max-width: 0;overflow: hidden;text-align: left;background-color: #f0f8ff;}#sk-container-id-18 div.sk-toggleable__content pre {margin: 0.2em;color: black;border-radius: 0.25em;background-color: #f0f8ff;}#sk-container-id-18 input.sk-toggleable__control:checked~div.sk-toggleable__content {max-height: 200px;max-width: 100%;overflow: auto;}#sk-container-id-18 input.sk-toggleable__control:checked~label.sk-toggleable__label-arrow:before {content: \"▾\";}#sk-container-id-18 div.sk-estimator input.sk-toggleable__control:checked~label.sk-toggleable__label {background-color: #d4ebff;}#sk-container-id-18 div.sk-label input.sk-toggleable__control:checked~label.sk-toggleable__label {background-color: #d4ebff;}#sk-container-id-18 input.sk-hidden--visually {border: 0;clip: rect(1px 1px 1px 1px);clip: rect(1px, 1px, 1px, 1px);height: 1px;margin: -1px;overflow: hidden;padding: 0;position: absolute;width: 1px;}#sk-container-id-18 div.sk-estimator {font-family: monospace;background-color: #f0f8ff;border: 1px dotted black;border-radius: 0.25em;box-sizing: border-box;margin-bottom: 0.5em;}#sk-container-id-18 div.sk-estimator:hover {background-color: #d4ebff;}#sk-container-id-18 div.sk-parallel-item::after {content: \"\";width: 100%;border-bottom: 1px solid gray;flex-grow: 1;}#sk-container-id-18 div.sk-label:hover label.sk-toggleable__label {background-color: #d4ebff;}#sk-container-id-18 div.sk-serial::before {content: \"\";position: absolute;border-left: 1px solid gray;box-sizing: border-box;top: 0;bottom: 0;left: 50%;z-index: 0;}#sk-container-id-18 div.sk-serial {display: flex;flex-direction: column;align-items: center;background-color: white;padding-right: 0.2em;padding-left: 0.2em;position: relative;}#sk-container-id-18 div.sk-item {position: relative;z-index: 1;}#sk-container-id-18 div.sk-parallel {display: flex;align-items: stretch;justify-content: center;background-color: white;position: relative;}#sk-container-id-18 div.sk-item::before, #sk-container-id-18 div.sk-parallel-item::before {content: \"\";position: absolute;border-left: 1px solid gray;box-sizing: border-box;top: 0;bottom: 0;left: 50%;z-index: -1;}#sk-container-id-18 div.sk-parallel-item {display: flex;flex-direction: column;z-index: 1;position: relative;background-color: white;}#sk-container-id-18 div.sk-parallel-item:first-child::after {align-self: flex-end;width: 50%;}#sk-container-id-18 div.sk-parallel-item:last-child::after {align-self: flex-start;width: 50%;}#sk-container-id-18 div.sk-parallel-item:only-child::after {width: 0;}#sk-container-id-18 div.sk-dashed-wrapped {border: 1px dashed gray;margin: 0 0.4em 0.5em 0.4em;box-sizing: border-box;padding-bottom: 0.4em;background-color: white;}#sk-container-id-18 div.sk-label label {font-family: monospace;font-weight: bold;display: inline-block;line-height: 1.2em;}#sk-container-id-18 div.sk-label-container {text-align: center;}#sk-container-id-18 div.sk-container {/* jupyter's `normalize.less` sets `[hidden] { display: none; }` but bootstrap.min.css set `[hidden] { display: none !important; }` so we also need the `!important` here to be able to override the default hidden behavior on the sphinx rendered scikit-learn.org. See: https://github.com/scikit-learn/scikit-learn/issues/21755 */display: inline-block !important;position: relative;}#sk-container-id-18 div.sk-text-repr-fallback {display: none;}</style><div id=\"sk-container-id-18\" class=\"sk-top-container\"><div class=\"sk-text-repr-fallback\"><pre>Lasso(alpha=0.001, max_iter=1, tol=1e-05)</pre><b>In a Jupyter environment, please rerun this cell to show the HTML representation or trust the notebook. <br />On GitHub, the HTML representation is unable to render, please try loading this page with nbviewer.org.</b></div><div class=\"sk-container\" hidden><div class=\"sk-item\"><div class=\"sk-estimator sk-toggleable\"><input class=\"sk-toggleable__control sk-hidden--visually\" id=\"sk-estimator-id-18\" type=\"checkbox\" checked><label for=\"sk-estimator-id-18\" class=\"sk-toggleable__label sk-toggleable__label-arrow\">Lasso</label><div class=\"sk-toggleable__content\"><pre>Lasso(alpha=0.001, max_iter=1, tol=1e-05)</pre></div></div></div></div></div>"
      ],
      "text/plain": [
       "Lasso(alpha=0.001, max_iter=1, tol=1e-05)"
      ]
     },
     "execution_count": 157,
     "metadata": {},
     "output_type": "execute_result"
    }
   ],
   "source": [
    "model_las = Lasso(alpha = 0.001,max_iter = 1,tol=0.00001)\n",
    "model_las.fit(X_train,Y_train)"
   ]
  },
  {
   "cell_type": "code",
   "execution_count": 158,
   "id": "90b2824e-3a4a-4a70-9dca-dcc721ed1d3d",
   "metadata": {},
   "outputs": [
    {
     "data": {
      "text/plain": [
       "array([-164.85325544,  260.41465851,  162.66717239,  171.15596895,\n",
       "        171.15596895,  260.41465851,  124.44604664,   23.41876152,\n",
       "        162.66717239,  254.69954473,   72.018824  ,  171.15596895,\n",
       "         38.77475   ,  360.97757792,   30.27666869, 1843.77454991,\n",
       "         23.41876152,   23.41876152,  129.1554653 , 7530.69978134,\n",
       "        451.96647447,  162.66717239,  171.15596895,   38.77475   ,\n",
       "         23.41876152,   26.51476513,  162.66717239,  162.66717239,\n",
       "        171.15596895,  171.15596895,  171.15596895,  129.1554653 ,\n",
       "         38.77475   ,  254.69954473,  975.87664366,   72.018824  ,\n",
       "        129.1554653 ,   72.018824  ,  162.66717239,  162.66717239,\n",
       "         99.37952062,  363.79301121,  182.92094142])"
      ]
     },
     "execution_count": 158,
     "metadata": {},
     "output_type": "execute_result"
    }
   ],
   "source": [
    "model_las.predict(X_test)"
   ]
  },
  {
   "cell_type": "code",
   "execution_count": 159,
   "id": "a8e6bf13-ea38-4f6d-917f-f522793c4205",
   "metadata": {},
   "outputs": [
    {
     "data": {
      "text/plain": [
       "0.9773104858963945"
      ]
     },
     "execution_count": 159,
     "metadata": {},
     "output_type": "execute_result"
    }
   ],
   "source": [
    "model_las.score(X_train,Y_train)"
   ]
  },
  {
   "cell_type": "code",
   "execution_count": 160,
   "id": "c4d89307-25d6-41ed-b026-fbabf9431744",
   "metadata": {},
   "outputs": [
    {
     "data": {
      "text/plain": [
       "-2.9470652374922257"
      ]
     },
     "execution_count": 160,
     "metadata": {},
     "output_type": "execute_result"
    }
   ],
   "source": [
    "model_las.score(X_test,Y_test)"
   ]
  },
  {
   "cell_type": "code",
   "execution_count": 161,
   "id": "90e30fa4-ddf6-41d3-83a6-49d617b90cf9",
   "metadata": {},
   "outputs": [
    {
     "data": {
      "text/html": [
       "<style>#sk-container-id-19 {color: black;}#sk-container-id-19 pre{padding: 0;}#sk-container-id-19 div.sk-toggleable {background-color: white;}#sk-container-id-19 label.sk-toggleable__label {cursor: pointer;display: block;width: 100%;margin-bottom: 0;padding: 0.3em;box-sizing: border-box;text-align: center;}#sk-container-id-19 label.sk-toggleable__label-arrow:before {content: \"▸\";float: left;margin-right: 0.25em;color: #696969;}#sk-container-id-19 label.sk-toggleable__label-arrow:hover:before {color: black;}#sk-container-id-19 div.sk-estimator:hover label.sk-toggleable__label-arrow:before {color: black;}#sk-container-id-19 div.sk-toggleable__content {max-height: 0;max-width: 0;overflow: hidden;text-align: left;background-color: #f0f8ff;}#sk-container-id-19 div.sk-toggleable__content pre {margin: 0.2em;color: black;border-radius: 0.25em;background-color: #f0f8ff;}#sk-container-id-19 input.sk-toggleable__control:checked~div.sk-toggleable__content {max-height: 200px;max-width: 100%;overflow: auto;}#sk-container-id-19 input.sk-toggleable__control:checked~label.sk-toggleable__label-arrow:before {content: \"▾\";}#sk-container-id-19 div.sk-estimator input.sk-toggleable__control:checked~label.sk-toggleable__label {background-color: #d4ebff;}#sk-container-id-19 div.sk-label input.sk-toggleable__control:checked~label.sk-toggleable__label {background-color: #d4ebff;}#sk-container-id-19 input.sk-hidden--visually {border: 0;clip: rect(1px 1px 1px 1px);clip: rect(1px, 1px, 1px, 1px);height: 1px;margin: -1px;overflow: hidden;padding: 0;position: absolute;width: 1px;}#sk-container-id-19 div.sk-estimator {font-family: monospace;background-color: #f0f8ff;border: 1px dotted black;border-radius: 0.25em;box-sizing: border-box;margin-bottom: 0.5em;}#sk-container-id-19 div.sk-estimator:hover {background-color: #d4ebff;}#sk-container-id-19 div.sk-parallel-item::after {content: \"\";width: 100%;border-bottom: 1px solid gray;flex-grow: 1;}#sk-container-id-19 div.sk-label:hover label.sk-toggleable__label {background-color: #d4ebff;}#sk-container-id-19 div.sk-serial::before {content: \"\";position: absolute;border-left: 1px solid gray;box-sizing: border-box;top: 0;bottom: 0;left: 50%;z-index: 0;}#sk-container-id-19 div.sk-serial {display: flex;flex-direction: column;align-items: center;background-color: white;padding-right: 0.2em;padding-left: 0.2em;position: relative;}#sk-container-id-19 div.sk-item {position: relative;z-index: 1;}#sk-container-id-19 div.sk-parallel {display: flex;align-items: stretch;justify-content: center;background-color: white;position: relative;}#sk-container-id-19 div.sk-item::before, #sk-container-id-19 div.sk-parallel-item::before {content: \"\";position: absolute;border-left: 1px solid gray;box-sizing: border-box;top: 0;bottom: 0;left: 50%;z-index: -1;}#sk-container-id-19 div.sk-parallel-item {display: flex;flex-direction: column;z-index: 1;position: relative;background-color: white;}#sk-container-id-19 div.sk-parallel-item:first-child::after {align-self: flex-end;width: 50%;}#sk-container-id-19 div.sk-parallel-item:last-child::after {align-self: flex-start;width: 50%;}#sk-container-id-19 div.sk-parallel-item:only-child::after {width: 0;}#sk-container-id-19 div.sk-dashed-wrapped {border: 1px dashed gray;margin: 0 0.4em 0.5em 0.4em;box-sizing: border-box;padding-bottom: 0.4em;background-color: white;}#sk-container-id-19 div.sk-label label {font-family: monospace;font-weight: bold;display: inline-block;line-height: 1.2em;}#sk-container-id-19 div.sk-label-container {text-align: center;}#sk-container-id-19 div.sk-container {/* jupyter's `normalize.less` sets `[hidden] { display: none; }` but bootstrap.min.css set `[hidden] { display: none !important; }` so we also need the `!important` here to be able to override the default hidden behavior on the sphinx rendered scikit-learn.org. See: https://github.com/scikit-learn/scikit-learn/issues/21755 */display: inline-block !important;position: relative;}#sk-container-id-19 div.sk-text-repr-fallback {display: none;}</style><div id=\"sk-container-id-19\" class=\"sk-top-container\"><div class=\"sk-text-repr-fallback\"><pre>Ridge(alpha=1e-07, max_iter=1, tol=1000)</pre><b>In a Jupyter environment, please rerun this cell to show the HTML representation or trust the notebook. <br />On GitHub, the HTML representation is unable to render, please try loading this page with nbviewer.org.</b></div><div class=\"sk-container\" hidden><div class=\"sk-item\"><div class=\"sk-estimator sk-toggleable\"><input class=\"sk-toggleable__control sk-hidden--visually\" id=\"sk-estimator-id-19\" type=\"checkbox\" checked><label for=\"sk-estimator-id-19\" class=\"sk-toggleable__label sk-toggleable__label-arrow\">Ridge</label><div class=\"sk-toggleable__content\"><pre>Ridge(alpha=1e-07, max_iter=1, tol=1000)</pre></div></div></div></div></div>"
      ],
      "text/plain": [
       "Ridge(alpha=1e-07, max_iter=1, tol=1000)"
      ]
     },
     "execution_count": 161,
     "metadata": {},
     "output_type": "execute_result"
    }
   ],
   "source": [
    "model_rid = Ridge(alpha = 0.0000001,max_iter = 1,tol=1000)\n",
    "model_rid.fit(X_train,Y_train)"
   ]
  },
  {
   "cell_type": "code",
   "execution_count": 162,
   "id": "bbd0cfe4-d497-4702-8a76-e8c844f0003e",
   "metadata": {},
   "outputs": [
    {
     "data": {
      "text/plain": [
       "0.9810344227684691"
      ]
     },
     "execution_count": 162,
     "metadata": {},
     "output_type": "execute_result"
    }
   ],
   "source": [
    "model_rid.score(X_train,Y_train)"
   ]
  },
  {
   "cell_type": "code",
   "execution_count": 163,
   "id": "775a346b-442d-48f8-9d58-ad187fb8bae7",
   "metadata": {},
   "outputs": [
    {
     "data": {
      "text/plain": [
       "-2.850945974868287"
      ]
     },
     "execution_count": 163,
     "metadata": {},
     "output_type": "execute_result"
    }
   ],
   "source": [
    "model_rid.score(X_test,Y_test)"
   ]
  },
  {
   "cell_type": "code",
   "execution_count": 164,
   "id": "63ff9ba2-25ea-4a88-90d1-776456b68d58",
   "metadata": {},
   "outputs": [
    {
     "data": {
      "text/html": [
       "<style>#sk-container-id-20 {color: black;}#sk-container-id-20 pre{padding: 0;}#sk-container-id-20 div.sk-toggleable {background-color: white;}#sk-container-id-20 label.sk-toggleable__label {cursor: pointer;display: block;width: 100%;margin-bottom: 0;padding: 0.3em;box-sizing: border-box;text-align: center;}#sk-container-id-20 label.sk-toggleable__label-arrow:before {content: \"▸\";float: left;margin-right: 0.25em;color: #696969;}#sk-container-id-20 label.sk-toggleable__label-arrow:hover:before {color: black;}#sk-container-id-20 div.sk-estimator:hover label.sk-toggleable__label-arrow:before {color: black;}#sk-container-id-20 div.sk-toggleable__content {max-height: 0;max-width: 0;overflow: hidden;text-align: left;background-color: #f0f8ff;}#sk-container-id-20 div.sk-toggleable__content pre {margin: 0.2em;color: black;border-radius: 0.25em;background-color: #f0f8ff;}#sk-container-id-20 input.sk-toggleable__control:checked~div.sk-toggleable__content {max-height: 200px;max-width: 100%;overflow: auto;}#sk-container-id-20 input.sk-toggleable__control:checked~label.sk-toggleable__label-arrow:before {content: \"▾\";}#sk-container-id-20 div.sk-estimator input.sk-toggleable__control:checked~label.sk-toggleable__label {background-color: #d4ebff;}#sk-container-id-20 div.sk-label input.sk-toggleable__control:checked~label.sk-toggleable__label {background-color: #d4ebff;}#sk-container-id-20 input.sk-hidden--visually {border: 0;clip: rect(1px 1px 1px 1px);clip: rect(1px, 1px, 1px, 1px);height: 1px;margin: -1px;overflow: hidden;padding: 0;position: absolute;width: 1px;}#sk-container-id-20 div.sk-estimator {font-family: monospace;background-color: #f0f8ff;border: 1px dotted black;border-radius: 0.25em;box-sizing: border-box;margin-bottom: 0.5em;}#sk-container-id-20 div.sk-estimator:hover {background-color: #d4ebff;}#sk-container-id-20 div.sk-parallel-item::after {content: \"\";width: 100%;border-bottom: 1px solid gray;flex-grow: 1;}#sk-container-id-20 div.sk-label:hover label.sk-toggleable__label {background-color: #d4ebff;}#sk-container-id-20 div.sk-serial::before {content: \"\";position: absolute;border-left: 1px solid gray;box-sizing: border-box;top: 0;bottom: 0;left: 50%;z-index: 0;}#sk-container-id-20 div.sk-serial {display: flex;flex-direction: column;align-items: center;background-color: white;padding-right: 0.2em;padding-left: 0.2em;position: relative;}#sk-container-id-20 div.sk-item {position: relative;z-index: 1;}#sk-container-id-20 div.sk-parallel {display: flex;align-items: stretch;justify-content: center;background-color: white;position: relative;}#sk-container-id-20 div.sk-item::before, #sk-container-id-20 div.sk-parallel-item::before {content: \"\";position: absolute;border-left: 1px solid gray;box-sizing: border-box;top: 0;bottom: 0;left: 50%;z-index: -1;}#sk-container-id-20 div.sk-parallel-item {display: flex;flex-direction: column;z-index: 1;position: relative;background-color: white;}#sk-container-id-20 div.sk-parallel-item:first-child::after {align-self: flex-end;width: 50%;}#sk-container-id-20 div.sk-parallel-item:last-child::after {align-self: flex-start;width: 50%;}#sk-container-id-20 div.sk-parallel-item:only-child::after {width: 0;}#sk-container-id-20 div.sk-dashed-wrapped {border: 1px dashed gray;margin: 0 0.4em 0.5em 0.4em;box-sizing: border-box;padding-bottom: 0.4em;background-color: white;}#sk-container-id-20 div.sk-label label {font-family: monospace;font-weight: bold;display: inline-block;line-height: 1.2em;}#sk-container-id-20 div.sk-label-container {text-align: center;}#sk-container-id-20 div.sk-container {/* jupyter's `normalize.less` sets `[hidden] { display: none; }` but bootstrap.min.css set `[hidden] { display: none !important; }` so we also need the `!important` here to be able to override the default hidden behavior on the sphinx rendered scikit-learn.org. See: https://github.com/scikit-learn/scikit-learn/issues/21755 */display: inline-block !important;position: relative;}#sk-container-id-20 div.sk-text-repr-fallback {display: none;}</style><div id=\"sk-container-id-20\" class=\"sk-top-container\"><div class=\"sk-text-repr-fallback\"><pre>DecisionTreeRegressor()</pre><b>In a Jupyter environment, please rerun this cell to show the HTML representation or trust the notebook. <br />On GitHub, the HTML representation is unable to render, please try loading this page with nbviewer.org.</b></div><div class=\"sk-container\" hidden><div class=\"sk-item\"><div class=\"sk-estimator sk-toggleable\"><input class=\"sk-toggleable__control sk-hidden--visually\" id=\"sk-estimator-id-20\" type=\"checkbox\" checked><label for=\"sk-estimator-id-20\" class=\"sk-toggleable__label sk-toggleable__label-arrow\">DecisionTreeRegressor</label><div class=\"sk-toggleable__content\"><pre>DecisionTreeRegressor()</pre></div></div></div></div></div>"
      ],
      "text/plain": [
       "DecisionTreeRegressor()"
      ]
     },
     "execution_count": 164,
     "metadata": {},
     "output_type": "execute_result"
    }
   ],
   "source": [
    "model_tree = DecisionTreeRegressor()\n",
    "model_tree.fit(X_train,Y_train)"
   ]
  },
  {
   "cell_type": "code",
   "execution_count": 165,
   "id": "a8df562c-7a51-4017-a257-7fb4768a38f0",
   "metadata": {},
   "outputs": [
    {
     "data": {
      "text/plain": [
       "array([  10.        ,  247.5       ,   38.75      ,  160.        ,\n",
       "        160.        ,  247.5       ,   50.        ,   45.        ,\n",
       "         38.75      ,  300.        ,  125.        ,  160.        ,\n",
       "         38.75      ,  247.5       ,   10.        , 1019.5       ,\n",
       "         45.        ,   45.        ,  118.57142857, 7500.        ,\n",
       "         50.        ,   38.75      ,  160.        ,   38.75      ,\n",
       "         45.        ,   17.5       ,   38.75      ,   38.75      ,\n",
       "        160.        ,  160.        ,  160.        ,  118.57142857,\n",
       "         38.75      ,  300.        , 1019.5       ,  125.        ,\n",
       "        118.57142857,  125.        ,   38.75      ,   38.75      ,\n",
       "        100.        ,   25.        ,  181.66666667])"
      ]
     },
     "execution_count": 165,
     "metadata": {},
     "output_type": "execute_result"
    }
   ],
   "source": [
    "model_tree.predict(X_test)"
   ]
  },
  {
   "cell_type": "code",
   "execution_count": 166,
   "id": "a1c7fb74-dadb-4048-9ab4-382a1f0ed389",
   "metadata": {},
   "outputs": [
    {
     "data": {
      "text/plain": [
       "0.981129954458411"
      ]
     },
     "execution_count": 166,
     "metadata": {},
     "output_type": "execute_result"
    }
   ],
   "source": [
    "model_tree.score(X_train,Y_train)"
   ]
  },
  {
   "cell_type": "code",
   "execution_count": 167,
   "id": "d5484cbc-4641-4e69-851e-025b06a5cc1e",
   "metadata": {},
   "outputs": [
    {
     "data": {
      "text/plain": [
       "-2.9194545852613447"
      ]
     },
     "execution_count": 167,
     "metadata": {},
     "output_type": "execute_result"
    }
   ],
   "source": [
    "model_tree.score(X_test,Y_test)"
   ]
  },
  {
   "cell_type": "code",
   "execution_count": null,
   "id": "7ae953e3",
   "metadata": {},
   "outputs": [],
   "source": []
  }
 ],
 "metadata": {
  "kernelspec": {
   "display_name": "Python 3 (ipykernel)",
   "language": "python",
   "name": "python3"
  },
  "language_info": {
   "codemirror_mode": {
    "name": "ipython",
    "version": 3
   },
   "file_extension": ".py",
   "mimetype": "text/x-python",
   "name": "python",
   "nbconvert_exporter": "python",
   "pygments_lexer": "ipython3",
   "version": "3.11.4"
  },
  "widgets": {
   "application/vnd.jupyter.widget-state+json": {
    "state": {},
    "version_major": 2,
    "version_minor": 0
   }
  }
 },
 "nbformat": 4,
 "nbformat_minor": 5
}
